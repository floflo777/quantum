{
 "cells": [
  {
   "cell_type": "markdown",
   "metadata": {},
   "source": [
    "# List of imports\n",
    "\n",
    "The following list of imports should be sufficient to work on the project."
   ]
  },
  {
   "cell_type": "code",
   "execution_count": 5,
   "metadata": {},
   "outputs": [],
   "source": [
    "import math\n",
    "import matplotlib.pyplot as plt\n",
    "import numpy as np\n",
    "from qiskit import QuantumCircuit, QuantumRegister, ClassicalRegister, transpile\n",
    "from qiskit.circuit.library.standard_gates import RYGate\n",
    "from qiskit_aer import AerSimulator\n",
    "from qiskit_aer.primitives import SamplerV2\n",
    "from qiskit.visualization import plot_histogram\n",
    "from qiskit.quantum_info import Statevector\n",
    "from qiskit_algorithms import IterativeAmplitudeEstimation, EstimationProblem\n",
    "from itertools import product\n",
    "from scipy.stats import norm, lognorm\n"
   ]
  },
  {
   "cell_type": "markdown",
   "metadata": {},
   "source": [
    "# Standard pricing of a call option\n",
    "\n",
    "The code below permits to compute the price of a call option using the Black-Scholes closed formula, and then approximating it using a Monte Carlo method."
   ]
  },
  {
   "cell_type": "markdown",
   "metadata": {},
   "source": [
    "## Black-Scholes price of the call option\n",
    "\n",
    "Definition of the function implementing the closed formula for the price of a call option"
   ]
  },
  {
   "cell_type": "code",
   "execution_count": 6,
   "metadata": {},
   "outputs": [],
   "source": [
    "def black_scholes_call(S, K, T, r, sigma):\n",
    "    \"\"\"\n",
    "    Calculate the Black-Scholes price for a European call option.\n",
    "    \n",
    "    :param S: Current stock price\n",
    "    :param K: Strike price\n",
    "    :param T: Maturity (in years)\n",
    "    :param r: Risk-free interest rate (annual)\n",
    "    :param sigma: Volatility of the stock (annual)\n",
    "    :return: Call option price\n",
    "    \"\"\"\n",
    "    d1 = (np.log(S / K) + (r + 0.5 * sigma**2) * T) / (sigma * np.sqrt(T))\n",
    "    d2 = d1 - sigma * np.sqrt(T)\n",
    "    call_price = S * norm.cdf(d1) - K * np.exp(-r * T) * norm.cdf(d2)\n",
    "    return call_price"
   ]
  },
  {
   "cell_type": "markdown",
   "metadata": {},
   "source": [
    "### Characteristics to price the call option"
   ]
  },
  {
   "cell_type": "code",
   "execution_count": 7,
   "metadata": {},
   "outputs": [],
   "source": [
    "# Financial characteristics that are also required to compute the probability distribution\n",
    "sigma = 0.2 # volatility (annualized)\n",
    "T = 1 # maturity (in years)\n",
    "r = 0.05 # risk-free rate (annualized)\n",
    "S0 = 2 # initial stock price\n",
    "K = 2 # strike price"
   ]
  },
  {
   "cell_type": "markdown",
   "metadata": {},
   "source": [
    "Evaluation of the price for the given set of parameters"
   ]
  },
  {
   "cell_type": "code",
   "execution_count": 8,
   "metadata": {},
   "outputs": [
    {
     "name": "stdout",
     "output_type": "stream",
     "text": [
      "Call option price: 0.20901167144371136\n"
     ]
    }
   ],
   "source": [
    "call_price = black_scholes_call(S0, K, T, r, sigma)\n",
    "print(f\"Call option price: {call_price}\")"
   ]
  },
  {
   "cell_type": "markdown",
   "metadata": {},
   "source": [
    "## Compounded Black-Scholes price of the call option"
   ]
  },
  {
   "cell_type": "markdown",
   "metadata": {},
   "source": [
    "In this project, we are actually interested in the compounded value of the call price. Data is stored in dictionaries."
   ]
  },
  {
   "cell_type": "markdown",
   "metadata": {},
   "source": [
    "Dictionary for the pricing characteristics"
   ]
  },
  {
   "cell_type": "code",
   "execution_count": 9,
   "metadata": {},
   "outputs": [],
   "source": [
    "price_dict = {'S0': S0, 'r': r, 'sigma': sigma, 'T': T}"
   ]
  },
  {
   "cell_type": "code",
   "execution_count": 10,
   "metadata": {},
   "outputs": [],
   "source": [
    "def compound_black_scholes_call(price_dict, K):\n",
    "    \"\"\"\n",
    "    Calculate the Black-Scholes price for a European call option.\n",
    "    \n",
    "    :param S: Current stock price\n",
    "    :param K: Strike price\n",
    "    :param T: Maturity (in years)\n",
    "    :param r: Risk-free interest rate (annual)\n",
    "    :param sigma: Volatility of the stock (annual)\n",
    "    :return: Call option price\n",
    "    \"\"\"\n",
    "    S0 = price_dict['S0']\n",
    "    T = price_dict['T']\n",
    "    r = price_dict['r']\n",
    "    sigma = price_dict['sigma']\n",
    "    call_price = black_scholes_call(S0, K, T, r, sigma)\n",
    "    compound = np.exp(r * T)\n",
    "    return compound * call_price"
   ]
  },
  {
   "cell_type": "code",
   "execution_count": 11,
   "metadata": {},
   "outputs": [
    {
     "name": "stdout",
     "output_type": "stream",
     "text": [
      "Compounded call option price: 0.21972792899401578\n"
     ]
    }
   ],
   "source": [
    "compound_call_price = compound_black_scholes_call(price_dict, K)\n",
    "print(f\"Compounded call option price: {compound_call_price}\")"
   ]
  },
  {
   "cell_type": "markdown",
   "metadata": {},
   "source": [
    "## Monte Carlo evaluation of the compounded price of the call option\n",
    "\n",
    "Complete the code below to evaluate the compounded price of the call option. A sample of $\\mathcal{N}(0,1)$ can be generated using the command `random.standard_normal` from **numpy**"
   ]
  },
  {
   "cell_type": "code",
   "execution_count": 12,
   "metadata": {},
   "outputs": [
    {
     "ename": "IndentationError",
     "evalue": "expected an indented block after 'for' statement on line 17 (2352073703.py, line 22)",
     "output_type": "error",
     "traceback": [
      "\u001b[0;36m  Cell \u001b[0;32mIn[12], line 22\u001b[0;36m\u001b[0m\n\u001b[0;31m    compound_option_price = sum/num_simulations\u001b[0m\n\u001b[0m    ^\u001b[0m\n\u001b[0;31mIndentationError\u001b[0m\u001b[0;31m:\u001b[0m expected an indented block after 'for' statement on line 17\n"
     ]
    }
   ],
   "source": [
    "def monte_carlo_black_scholes(price_dict, K, num_simulations):\n",
    "    \"\"\"\n",
    "    Monte Carlo simulation for Black-Scholes option pricing.\n",
    "    \n",
    "    :param price_dict: Dictionary containing the pricing characteristics\n",
    "    :param K: Strike price\n",
    "    :param num_simulations: Number of Monte Carlo simulations\n",
    "    :return: Option price\n",
    "    \"\"\"\n",
    "    # Retrieve pricing characteristics\n",
    "    S = price_dict['S0']\n",
    "    T = price_dict['T']\n",
    "    r = price_dict['r']\n",
    "    sigma = price_dict['sigma']\n",
    "    # Generate random price paths\n",
    "    sum = 0\n",
    "    for t in range(1, num_simulations):\n",
    "      ### TO COMPLETE  \n",
    "    \n",
    "    \n",
    "    # Discount the average payoff to present value\n",
    "    compound_option_price = sum/num_simulations\n",
    "    \n",
    "    return compound_option_price"
   ]
  },
  {
   "cell_type": "code",
   "execution_count": null,
   "metadata": {},
   "outputs": [],
   "source": [
    "monte_carlo_black_scholes(price_dict, K, 50000)"
   ]
  },
  {
   "cell_type": "markdown",
   "metadata": {},
   "source": [
    "# Storing a linear function in a quantum state\n",
    "\n",
    "## Presentation\n",
    "The goal of this part is to construct a circuit that permits to encode an affine function $f: x\\mapsto a + bx$ on $n$ qubits, under the constraint that $a$ and $b$ are such that $f(x) \\in [0,1]$ for all $x\\in \\{0, \\ldots, 2^n-1\\}$.\n",
    "\n",
    "The encoding is based on the approximation $\\sin^2\\left(y + \\frac{\\pi}{4}\\right) = y + \\frac{1}{2} + O\\left(y^3\\right)$, where $y$ is replaced by $d\\cdot\\left(f(x) + \\frac{1}{2}\\right)$."
   ]
  },
  {
   "cell_type": "markdown",
   "metadata": {},
   "source": [
    "## Encoding the affine function\n",
    "\n",
    "Creation of a method `encode_affine_function`$(n,a,b)$ that encodes the function $f$ defined above into a circuit using rotation gates."
   ]
  },
  {
   "cell_type": "code",
   "execution_count": null,
   "metadata": {},
   "outputs": [],
   "source": []
  },
  {
   "cell_type": "markdown",
   "metadata": {},
   "source": [
    "## Testing the circuit\n",
    "\n",
    "Definition of a method `convert_affine`$(a,b,d)$ that outputs values `a_out` and `b_out` for the transformed affine function."
   ]
  },
  {
   "cell_type": "code",
   "execution_count": null,
   "metadata": {},
   "outputs": [],
   "source": [
    "def convert_affine(a,b,d):\n",
    "    a_out = d*(a-0.5)+np.pi/4\n",
    "    b_out = d*b\n",
    "    return a_out, b_out"
   ]
  },
  {
   "cell_type": "markdown",
   "metadata": {},
   "source": [
    "The `get_one_prob` method below permits to compute the probability of reading value '1' on qubit $0$ upon a measurement. "
   ]
  },
  {
   "cell_type": "code",
   "execution_count": null,
   "metadata": {},
   "outputs": [],
   "source": [
    "def get_one_prob(qc, numshots):\n",
    "    job = SamplerV2().run([qc], shots=numshots)\n",
    "    result = job.result()\n",
    "    prob = result[0].data.cl.get_counts()['1']/numshots\n",
    "    return prob"
   ]
  },
  {
   "cell_type": "markdown",
   "metadata": {},
   "source": [
    "Creation of a method `add_measurement`(`qc`) method that copies circuit `qc`, adds a classical register with a single bit to the new copy and adds a measurement of qubit $0$ with the result stored in the classical bit. The resulting circuit will be used to guarantee that the circuit correctly encodes the affine function."
   ]
  },
  {
   "cell_type": "code",
   "execution_count": null,
   "metadata": {},
   "outputs": [],
   "source": []
  },
  {
   "cell_type": "markdown",
   "metadata": {},
   "source": [
    "### Validation"
   ]
  },
  {
   "cell_type": "code",
   "execution_count": null,
   "metadata": {},
   "outputs": [],
   "source": [
    "# Number of qubits in the circuit\n",
    "n_test = 3\n",
    "\n",
    "# Arbitrary value for b\n",
    "b_test = 1.0/(2**n_test)\n",
    "\n",
    "# Arbitrary value for a, with the constraint that 0 <= f(x) <= 1 for all x\n",
    "a_test = 1.0/(2**(n_test+1))\n",
    "\n",
    "# Arbitrary value for d\n",
    "d_test = 0.1"
   ]
  },
  {
   "cell_type": "code",
   "execution_count": null,
   "metadata": {},
   "outputs": [],
   "source": [
    "pure_affine = encode_affine_function(n_test, a_test, b_test)"
   ]
  },
  {
   "cell_type": "code",
   "execution_count": null,
   "metadata": {},
   "outputs": [],
   "source": [
    "pure_affine.draw(output='mpl')"
   ]
  },
  {
   "cell_type": "code",
   "execution_count": null,
   "metadata": {},
   "outputs": [],
   "source": [
    "measure_affine = add_measurement(pure_affine)"
   ]
  },
  {
   "cell_type": "code",
   "execution_count": null,
   "metadata": {},
   "outputs": [],
   "source": [
    "measure_affine.draw(output='mpl')"
   ]
  },
  {
   "cell_type": "markdown",
   "metadata": {},
   "source": [
    "Creation of a method `initializer`$(qc,i)$ that takes as an input a quantum circuit $qc$ consisting of $n$ qubits and an integer $0\\leq i \\leq 2^{n} -1$, and creates a new quantum circuit in which the initial state is $|i\\rangle$."
   ]
  },
  {
   "cell_type": "code",
   "execution_count": null,
   "metadata": {},
   "outputs": [],
   "source": [
    "    "
   ]
  },
  {
   "cell_type": "markdown",
   "metadata": {},
   "source": [
    "We provide below a method `compare_values`$(n,a,b,d,i)$ that compares the expected value \n",
    "$$d\\cdot\\left(f(i)-\\frac{1}{2}\\right) + \\frac{1}{2} = d\\cdot\\left(a+i\\cdot b - \\frac{1}{2}\\right) + \\frac{1}{2}$$\n",
    "with the probability of measuring value $1$ in the constructed circuit. The method prints the expected value, the probability of measuring the value $1$ and the relative error between both.\n",
    "\n",
    "This method is in charge of:\n",
    "- Invoking `convert_affine` to get the appropriate parameters for the encoded affine function\n",
    "- Creating the initial circuit (`encode_affine_function`)\n",
    "- Invoking the `initializer` to set the desired initial state\n",
    "- Adding a classical bit to measure the first qubit (`add_measurement` method) and using the `get_one_prob` method to compute the probability of measuring the value $1$"
   ]
  },
  {
   "cell_type": "code",
   "execution_count": null,
   "metadata": {},
   "outputs": [],
   "source": [
    "def compare_values(n, a, b, d, i):\n",
    "    a_out, b_out = convert_affine(a, b, d)\n",
    "    encoded_qc = encode_affine_function(n, a_out, b_out)\n",
    "    initialized_qc = intitializer(encoded_qc,i)\n",
    "    measured_qc = add_measurement(initialized_qc)\n",
    "    output_prob = get_one_prob(measured_qc, 10000)\n",
    "    expected_value = d*(a+b*i -0.5) + 0.5\n",
    "    relative_error =(expected_value-output_prob)/expected_value\n",
    "    print(f'Expected value: {expected_value}, measured output: {output_prob}, relative error: {relative_error:.2%}')"
   ]
  },
  {
   "cell_type": "code",
   "execution_count": null,
   "metadata": {},
   "outputs": [],
   "source": [
    "def compare_all_values(n, a, b, d):\n",
    "    for i in range(2**n):\n",
    "        compare_values(n, a, b, d, i)"
   ]
  },
  {
   "cell_type": "code",
   "execution_count": null,
   "metadata": {},
   "outputs": [],
   "source": [
    "compare_all_values(n_test, a_test, b_test, d_test)"
   ]
  },
  {
   "cell_type": "markdown",
   "metadata": {},
   "source": [
    "# A quantum circuit for integer comparison\n",
    "\n",
    "The goal of this part is to construct a circuit of size $n$, parameterized by an integer $0\\leq L \\leq 2^n-1$, that permits to detect whether a given state $|i\\rangle$ is such that $i < L$ or $i\\geq L$."
   ]
  },
  {
   "cell_type": "markdown",
   "metadata": {},
   "source": [
    "## Creation of the 'or' gate\n",
    "\n",
    "Definition of a method `or_gate`() that constructs a quantum circuit representing an *or* gate using the method described in the exercise sheet. The resulting circuit can be used as a standard gate thanks to the `to_gate()` method. It will be necessary to invoke the `transpile` method before measurement outcomes can be computed."
   ]
  },
  {
   "cell_type": "code",
   "execution_count": null,
   "metadata": {},
   "outputs": [],
   "source": []
  },
  {
   "cell_type": "code",
   "execution_count": null,
   "metadata": {},
   "outputs": [],
   "source": [
    "or_gate().draw(output='mpl')"
   ]
  },
  {
   "cell_type": "markdown",
   "metadata": {},
   "source": [
    "We can verify that the *or* gate has the appropriate behavior by computing the probabilities of measuring a $1$ on qubit $2$ for different initial states.\n",
    "\n",
    "\n",
    "**Useful methods**: \n",
    "- The `initialize` method defined above.\n",
    "- The `to_gate()` instruction can be used to convert a circuit into a gate.\n",
    "- The `transpile()` instruction allows the AerSimulator to convert the *or* gate back to known gates."
   ]
  },
  {
   "cell_type": "code",
   "execution_count": null,
   "metadata": {},
   "outputs": [],
   "source": []
  },
  {
   "cell_type": "markdown",
   "metadata": {},
   "source": [
    "## Construction of the comparator circuit\n",
    "\n",
    "Definition of a `make_comparator`$(n,L)$ method that creates a circuit $q$ of size $2n$ such that, when state $|i\\rangle \\otimes |0^n\\rangle$ is fed as an input, we obtain a state $|x_{2n-1}\\cdots x_0\\rangle$ as an output with $|x_0\\rangle = |0\\rangle$ exactly when $i < L$. "
   ]
  },
  {
   "cell_type": "code",
   "execution_count": null,
   "metadata": {},
   "outputs": [],
   "source": []
  },
  {
   "cell_type": "markdown",
   "metadata": {},
   "source": [
    "An example when $n=3$ and $L=5$"
   ]
  },
  {
   "cell_type": "code",
   "execution_count": null,
   "metadata": {},
   "outputs": [],
   "source": [
    "cmp_qc = make_comparator(3, 5)"
   ]
  },
  {
   "cell_type": "code",
   "execution_count": null,
   "metadata": {},
   "outputs": [],
   "source": [
    "cmp_qc.draw(output='mpl')"
   ]
  },
  {
   "cell_type": "markdown",
   "metadata": {},
   "source": [
    "Definition of a `check_comparison`$(n,L, nb)$ method that invokes the `make_comparator` method, iterates over $0\\leq i\\leq 2^n-1$ to initialize the circuit with state $|i\\rangle \\otimes |0^n\\rangle$ and verifies that the measurement of the qubit at index $0$ returns the appropriate value for each value of $i$. Parameter $nb$ represents the number of shots used by the sampler to compute measurement outcome statistics."
   ]
  },
  {
   "cell_type": "code",
   "execution_count": null,
   "metadata": {},
   "outputs": [],
   "source": [
    "def check_comparison(n, L, numshots):\n",
    "    comp_qc = make_comparator(n, L)\n",
    "    #line below useless?\n",
    "    simulator = AerSimulator(method='statevector')\n",
    "    sampler = SamplerV2()   \n",
    "    for i in range(2**n):\n",
    "        qr = QuantumRegister(2*n)\n",
    "        qci = QuantumCircuit(qr)\n",
    "        init = [0 for _ in range(2**n)]\n",
    "        init[i] = 1\n",
    "        qci.initialize(init, qr[n:2*n])\n",
    "        res_qc = qci.compose(comp_qc)\n",
    "        meas_qc = add_measurement(res_qc)\n",
    "        qc = transpile(meas_qc, simulator)\n",
    "        job = sampler.run([qc], shots=numshots)\n",
    "        result = job.result()\n",
    "        prob = result[0].data.cl.get_counts()\n",
    "        print(f'Test if {i} >= {L}, measured output: {prob}')"
   ]
  },
  {
   "cell_type": "code",
   "execution_count": null,
   "metadata": {},
   "outputs": [],
   "source": [
    "check_comparison(4, 10, 1024)"
   ]
  },
  {
   "cell_type": "markdown",
   "metadata": {},
   "source": [
    "# Storing a probability distribution in a quantum state\n",
    "\n",
    "The goal of this part is to design a circuit that permits to store a probability distribution in a quantum state.\n",
    "\n",
    "## Case where $n=2$\n",
    "\n",
    "We begin with the simple case where $n=2$. The cell below constructs a circuit permitting to store the probability distribution in a quantum state (with a single qubit). "
   ]
  },
  {
   "cell_type": "code",
   "execution_count": null,
   "metadata": {},
   "outputs": [],
   "source": [
    "def make_basic_qc(p):\n",
    "    qreg = QuantumRegister(1)\n",
    "    qc =  QuantumCircuit(qreg)\n",
    "    theta = 2*math.acos(math.sqrt(p))\n",
    "    qc.ry(theta, 0)\n",
    "    return qc "
   ]
  },
  {
   "cell_type": "code",
   "execution_count": null,
   "metadata": {},
   "outputs": [],
   "source": [
    "make_basic_qc(0.15).draw(output='mpl')"
   ]
  },
  {
   "cell_type": "code",
   "execution_count": null,
   "metadata": {},
   "outputs": [],
   "source": [
    "def get_state_probabilities(qc):\n",
    "  n = qc.num_qubits\n",
    "  statevector = Statevector(qc)\n",
    "  probabilities = {}\n",
    "  for i in range(2**n):\n",
    "    state = bin(i)[2:].zfill(n)\n",
    "    probabilities[state] = abs(statevector[i])**2  \n",
    "  return probabilities"
   ]
  },
  {
   "cell_type": "code",
   "execution_count": null,
   "metadata": {},
   "outputs": [],
   "source": [
    "get_state_probabilities(make_basic_qc(0.15))"
   ]
  },
  {
   "cell_type": "markdown",
   "metadata": {},
   "source": [
    "The probability of getting the outcome $0$ is close to $p$, likewise for $1$ and $1-p$."
   ]
  },
  {
   "cell_type": "markdown",
   "metadata": {},
   "source": [
    "## Circuit for an arbitrary value of $n$."
   ]
  },
  {
   "cell_type": "markdown",
   "metadata": {},
   "source": [
    "### Generation of the final prices grid"
   ]
  },
  {
   "cell_type": "markdown",
   "metadata": {},
   "source": [
    "Definition of a method `make_final_price_grid`$(n, \\mathrm{price\\_dict}, m)$ that generates a regular grid with size $2^n$ of final prices ranging between $\\max\\left(0, \\overline{S} - m\\cdot \\sigma\\right)$ and $\\overline{S} + m\\cdot \\sigma$. This method is based on the `linspace` method from **numpy**."
   ]
  },
  {
   "cell_type": "code",
   "execution_count": null,
   "metadata": {},
   "outputs": [],
   "source": []
  },
  {
   "cell_type": "markdown",
   "metadata": {},
   "source": [
    "Definition of a method `align`$(n, K, \\mathrm{price\\_dict}, m)$ that returns the value $L$ such that $s_L$ is the projection of $K$ on the final price grid. "
   ]
  },
  {
   "cell_type": "code",
   "execution_count": null,
   "metadata": {},
   "outputs": [],
   "source": []
  },
  {
   "cell_type": "markdown",
   "metadata": {},
   "source": [
    "Test of the discretization error by comparing the outputs of `compound_black_scholes_call` on an arbitrary strike and on its projection on the final price grid."
   ]
  },
  {
   "cell_type": "code",
   "execution_count": null,
   "metadata": {},
   "outputs": [],
   "source": [
    "init_cpb = compound_black_scholes_call(price_dict, price_dict['S0'])\n",
    "disc_cpb = compound_black_scholes_call(price_dict, align(5,price_dict['S0'], price_dict, 3)[1])"
   ]
  },
  {
   "cell_type": "code",
   "execution_count": null,
   "metadata": {},
   "outputs": [],
   "source": [
    "print(f'init: {init_cpb}, disc: {disc_cpb}, error: {(init_cpb-disc_cpb)/init_cpb:.2%}')"
   ]
  },
  {
   "cell_type": "markdown",
   "metadata": {},
   "source": [
    "### Generation of the probability values\n",
    "\n",
    "Definition of a method `make_probability_distribution` that returns a *last prices* grid and the corresponding value of each $p_i$ for $0 \\leq i < 2^n$. The arguments of this method are:\n",
    "- $n$: the number of qubits under consideration\n",
    "- $\\mathrm{price\\_dict}$: the dictionary with the mathematical characteristics of the underlying\n",
    "- $m$: the number of standard deviations to consider for the minimum and maximum bounds of the grid\n",
    "\n",
    "***Useful methods:*** \n",
    "$S_T$ is of the form $S_0e^{(r-\\tfrac{\\sigma^2}{2})T}\\cdot Z$, where $Z \\sim \\mathrm{lognorm}(\\sigma\\sqrt{T})$. The lognormal distribution is available thanks to the `lognorm` method from `scipy.stats`. The `scale` parameter is to be set to $1$.\n",
    "\n",
    "The probability values can be computed using the `cdf` method available on the lognormal distribution."
   ]
  },
  {
   "cell_type": "code",
   "execution_count": null,
   "metadata": {},
   "outputs": [],
   "source": [
    "def make_probability_distribution(n, pr_dict, num_stddev):\n",
    "    \"\"\"\n",
    "    Generate the probability distribution for the final stock prices.\n",
    "    \n",
    "    :param n: Number of qubits\n",
    "    :param pr_dict: Dictionary with the financial characteristics\n",
    "    :return: Probability distribution\n",
    "    \"\"\"\n",
    "    # Generate the log-normal distribution\n",
    "    S0 = pr_dict['S0']\n",
    "    r = pr_dict['r']\n",
    "    T = pr_dict['T']\n",
    "    sigma = pr_dict['sigma']\n",
    "    \n",
    "    lognorm_dist = lognorm(sigma*np.sqrt(T), scale=1)\n",
    "    \n",
    "    final_prices = make_final_price_grid(n, pr_dict, num_stddev)\n",
    "    sm = final_prices[0]\n",
    "    sM = final_prices[-1]\n",
    "    \n",
    "\n",
    "    # Denominator for normalization\n",
    "    \n",
    "    # Additional point for the construction of the probability grid\n",
    "    \n",
    "    # Extension of the final prices grid\n",
    "    \n",
    "    # Computation of the quantiles\n",
    "    \n",
    "    # Compute the cumulative distribution function\n",
    "    \n",
    "    # Compute the normalization factor\n",
    "    \n",
    "    # Compute the probability distribution\n",
    "    prob_distribs = # TO COMPLETE\n",
    "    \n",
    "    return final_prices, prob_distribs\n"
   ]
  },
  {
   "cell_type": "markdown",
   "metadata": {},
   "source": [
    "## Validation of the probability distribution, comparison of the Black-Scholes approximation"
   ]
  },
  {
   "cell_type": "code",
   "execution_count": null,
   "metadata": {},
   "outputs": [],
   "source": [
    "# Arbitrary value for n, will afterward be the size of the quantum circuit\n",
    "n_prob = 10\n",
    "n_stddev_prob = 4"
   ]
  },
  {
   "cell_type": "markdown",
   "metadata": {},
   "source": [
    "Verification that the generated distribution sums to $1$."
   ]
  },
  {
   "cell_type": "code",
   "execution_count": null,
   "metadata": {},
   "outputs": [],
   "source": [
    "final_prices, prob_distribs = make_probability_distribution(n_prob, price_dict, n_stddev_prob)\n",
    "np.sum(prob_distribs)"
   ]
  },
  {
   "cell_type": "markdown",
   "metadata": {},
   "source": [
    "Plot the generated distribution against the final price grid."
   ]
  },
  {
   "cell_type": "code",
   "execution_count": null,
   "metadata": {},
   "outputs": [],
   "source": [
    "plt.plot(final_prices, prob_distribs)\n",
    "plt.xlabel('i')\n",
    "plt.ylabel('$p_i$')\n",
    "plt.show()"
   ]
  },
  {
   "cell_type": "markdown",
   "metadata": {},
   "source": [
    "Compare the compounded Black-Scholes price of an option with the approximation of the expectation \n",
    "$$\\mathbb{E}\\left[(S_T - s_L)_+\\right] \\approx \\sum_{i=0}^{2^n-1}p_i\\cdot(s_i - s_L)_+.$$"
   ]
  },
  {
   "cell_type": "code",
   "execution_count": null,
   "metadata": {},
   "outputs": [],
   "source": [
    "def expectation_cmp(n, L, price_dict, n_stddev):\n",
    "    last_prices, prob_distribs = make_probability_distribution(n, price_dict, n_stddev)\n",
    "    sL = last_prices[L]\n",
    "    sum = 0\n",
    "    for i in range(0, 2**n):        \n",
    "        sum += (last_prices[i] - sL)*prob_distribs[i]*(i>=L)\n",
    "    bs = compound_black_scholes_call(price_dict, sL)\n",
    "    return {'bs': bs, 'sum': sum, 'strike': sL}"
   ]
  },
  {
   "cell_type": "code",
   "execution_count": null,
   "metadata": {},
   "outputs": [],
   "source": [
    "def get_all_expect_comp(n, price_dict, num_stddev, num_points):\n",
    "    res = []\n",
    "    for L in range(0, 2**n,int(2**n/num_points)):\n",
    "        ex_cmp = expectation_cmp(n, L, price_dict, num_stddev)\n",
    "        print(f'L: {L} (strike {ex_cmp[\"strike\"]})')\n",
    "        res.append(ex_cmp)\n",
    "    return res"
   ]
  },
  {
   "cell_type": "code",
   "execution_count": null,
   "metadata": {},
   "outputs": [],
   "source": [
    "res = get_all_expect_comp(n_prob, price_dict,n_stddev_prob, 20)"
   ]
  },
  {
   "cell_type": "code",
   "execution_count": null,
   "metadata": {},
   "outputs": [],
   "source": [
    "resbs = [x['bs'] for x in res]\n",
    "ressum = [x['sum'] for x in res]\n",
    "strikes = [x['strike'] for x in res]\n",
    "xcoord = price_dict['S0']\n",
    "plt.plot(strikes, resbs, label='Black-Scholes')\n",
    "plt.plot(strikes, ressum, label='Approx')\n",
    "plt.axvline(x=xcoord, color='r', linestyle='--', label=f'S0 = {xcoord}')\n",
    "plt.legend()\n",
    "plt.show()"
   ]
  },
  {
   "cell_type": "code",
   "execution_count": null,
   "metadata": {},
   "outputs": [],
   "source": [
    "abs_errors = [(x['sum'] - x['bs']) for x in res]"
   ]
  },
  {
   "cell_type": "code",
   "execution_count": null,
   "metadata": {},
   "outputs": [],
   "source": [
    "plt.plot(strikes, abs_errors)\n",
    "xcoord = price_dict['S0']\n",
    "plt.axvline(x=xcoord, color='r', linestyle='--', label=f'x = {xcoord}')\n",
    "plt.legend()\n",
    "plt.show()"
   ]
  },
  {
   "cell_type": "markdown",
   "metadata": {},
   "source": [
    "## Recursive distribution computations\n",
    "\n",
    "Computation of the values $q_w$ and $\\theta_w$. The values of $q_w$ (resp. $\\theta_w$) where $w$ is of length $m$ are stored in a dictionnary for which each key is a string of length $m$. The dictionnaries with the values of $q$ (resp. $\\theta$) for $1 \\leq m \\leq n$ are stored in a dictionnary `DictQ` (resp. `DictTheta`)."
   ]
  },
  {
   "cell_type": "markdown",
   "metadata": {},
   "source": [
    "Definition of a function `generate_binary_strings`$(n)$ that takes a parameter $n$ and outputs a list of all binary strings of length $n$.\n",
    "\n",
    "Useful method: `product` from the `itertools` package"
   ]
  },
  {
   "cell_type": "code",
   "execution_count": null,
   "metadata": {},
   "outputs": [],
   "source": []
  },
  {
   "cell_type": "markdown",
   "metadata": {},
   "source": [
    "Definition of a method `make_dict_at_n` that creates the dictionary containing the values $q_w$ where $w$ is of length $n$. This method has two parameters:\n",
    "- the value of $n$\n",
    "- the probability distribution under consideration"
   ]
  },
  {
   "cell_type": "code",
   "execution_count": null,
   "metadata": {},
   "outputs": [],
   "source": []
  },
  {
   "cell_type": "code",
   "execution_count": null,
   "metadata": {},
   "outputs": [],
   "source": [
    "dict_pn = make_dict_at_n(n_circ, circ_distrib)"
   ]
  },
  {
   "cell_type": "code",
   "execution_count": null,
   "metadata": {},
   "outputs": [],
   "source": [
    "dict_pn"
   ]
  },
  {
   "cell_type": "markdown",
   "metadata": {},
   "source": [
    "Definition of a method `make_all_dictQ` that iterates from $n-1$ to $1$ to generate all the required probability distributions. Note that the set of keys in the generated dictionary is $\\{1, \\ldots, n\\}$. This method has two parameters:\n",
    "- the value of $n$\n",
    "- the dictionary containing the probability distribution at level $n$ (generated by `make_dict_at_n`)"
   ]
  },
  {
   "cell_type": "code",
   "execution_count": null,
   "metadata": {},
   "outputs": [],
   "source": []
  },
  {
   "cell_type": "code",
   "execution_count": null,
   "metadata": {},
   "outputs": [],
   "source": [
    "dict_all_q = make_all_dictQ(n_circ, dict_pn)"
   ]
  },
  {
   "cell_type": "markdown",
   "metadata": {},
   "source": [
    "Definition of a method `make_all_dictTheta` that iterates from $0$ to $n-1$ to generate all the required angles. Note that the set of keys in the generated dictionary is $\\{0, \\ldots, n-1\\}$. This method has a single parameter: the dictionary generated by `make_all_dictQ`.\n",
    "\n",
    "For the sake of convenience, the element at key $0$ in the generated dictionary will be the angle $\\theta^{[0]}_\\varepsilon$ instead of a dictionary containing this angle (with the empty string as a key)."
   ]
  },
  {
   "cell_type": "code",
   "execution_count": null,
   "metadata": {},
   "outputs": [],
   "source": []
  },
  {
   "cell_type": "code",
   "execution_count": null,
   "metadata": {},
   "outputs": [],
   "source": [
    "dict_all_theta = make_all_dictTheta(dict_all_q)"
   ]
  },
  {
   "cell_type": "markdown",
   "metadata": {},
   "source": [
    "Definition of a method `make_qc_for_dict` that creates the general quantum circuit for the storage of a quantum distribution. This method has a unique parameter: the dictionary of rotation angles (generated by `make_all_dictTheta`).\n",
    "\n",
    "Some useful concepts and methods from Qiskit:\n",
    "- `RYGate` for $y$-rotation gates that are potentially controlled\n",
    "- `control`: the method to create the controlled version of a quantum gate. This method takes as parameters the number of control qubits, and possibly the state of the control qubits that will trigger the gate (`ctrl_state`)."
   ]
  },
  {
   "cell_type": "code",
   "execution_count": null,
   "metadata": {},
   "outputs": [],
   "source": []
  },
  {
   "cell_type": "code",
   "execution_count": null,
   "metadata": {},
   "outputs": [],
   "source": [
    "prob_distrib_qc = make_qc_for_dict(dict_all_theta)"
   ]
  },
  {
   "cell_type": "code",
   "execution_count": null,
   "metadata": {},
   "outputs": [],
   "source": [
    "prob_distrib_qc.draw(output='mpl')"
   ]
  },
  {
   "cell_type": "markdown",
   "metadata": {},
   "source": [
    "## Validation"
   ]
  },
  {
   "cell_type": "code",
   "execution_count": null,
   "metadata": {},
   "outputs": [],
   "source": [
    "circ_prob_distrib = get_state_probabilities(prob_distrib_qc)"
   ]
  },
  {
   "cell_type": "code",
   "execution_count": null,
   "metadata": {},
   "outputs": [],
   "source": [
    "legend=[\"Target\", \"Simulation\"]\n",
    "plot_histogram([dict_pn, circ_prob_distrib], legend=legend, title=\"Distribution comparison\", bar_labels=False)"
   ]
  },
  {
   "cell_type": "markdown",
   "metadata": {},
   "source": [
    "Global method that constructs a circuit that stores the probability distribution in a quantum state"
   ]
  },
  {
   "cell_type": "code",
   "execution_count": null,
   "metadata": {},
   "outputs": [],
   "source": [
    "def make_distribution_circuit(n, pricing_dict, num_stddev):\n",
    "    _ ,prob_distrib = make_probability_distribution(n, pricing_dict, num_stddev)\n",
    "    dict_pn = make_dict_at_n(n, prob_distrib)\n",
    "    dict_all_q = make_all_dictQ(n, dict_pn)\n",
    "    dict_all_theta = make_all_dictTheta(dict_all_q)\n",
    "    res = make_qc_for_dict(dict_all_theta)\n",
    "    return res"
   ]
  },
  {
   "cell_type": "markdown",
   "metadata": {},
   "source": [
    "# Full integration"
   ]
  },
  {
   "cell_type": "code",
   "execution_count": null,
   "metadata": {},
   "outputs": [],
   "source": [
    "circ_dict = {'n': 3, 'd': 0.01, 'num_stddev': 3, 'm': 3}\n",
    "K = 2.0"
   ]
  },
  {
   "cell_type": "markdown",
   "metadata": {},
   "source": [
    "## Creation of the affine functions $f_0$ and $f_1$\n",
    "\n",
    "Computation of the values $a_i$ and $b_i$ such that $f_i = a_i + b_i\\cdot i$."
   ]
  },
  {
   "cell_type": "code",
   "execution_count": null,
   "metadata": {},
   "outputs": [],
   "source": []
  },
  {
   "cell_type": "markdown",
   "metadata": {},
   "source": [
    "Comparison of the expectation to estimate with the expectation of its sine approximation."
   ]
  },
  {
   "cell_type": "code",
   "execution_count": null,
   "metadata": {},
   "outputs": [],
   "source": [
    "def compare_expect(circ_dict, price_dict, K):\n",
    "    # TO COMPLETE\n",
    "    return mean_f, mean_sin"
   ]
  },
  {
   "cell_type": "code",
   "execution_count": null,
   "metadata": {},
   "outputs": [],
   "source": [
    "expect, sin_expect = compare_expect(circ_dict, price_dict, K)"
   ]
  },
  {
   "cell_type": "code",
   "execution_count": null,
   "metadata": {},
   "outputs": [],
   "source": [
    "expect, sin_expect"
   ]
  },
  {
   "cell_type": "markdown",
   "metadata": {},
   "source": [
    "Definition of methods to construct the circuits for $f_0$ and $f_1$ using the `encode_affine_function` method."
   ]
  },
  {
   "cell_type": "code",
   "execution_count": null,
   "metadata": {},
   "outputs": [],
   "source": []
  },
  {
   "cell_type": "markdown",
   "metadata": {},
   "source": [
    "## Comparison circuit\n",
    "\n",
    "Construction of the comparison circuit for a given strike price."
   ]
  },
  {
   "cell_type": "code",
   "execution_count": null,
   "metadata": {},
   "outputs": [],
   "source": [
    "def make_comparison_circuit(circ_dict, price_dict, K):\n",
    "    # TO COMPLETE"
   ]
  },
  {
   "cell_type": "code",
   "execution_count": null,
   "metadata": {},
   "outputs": [],
   "source": [
    "cmp_qc = make_comparison_circuit(circ_dict, price_dict, K)"
   ]
  },
  {
   "cell_type": "code",
   "execution_count": null,
   "metadata": {},
   "outputs": [],
   "source": [
    "cmp_qc.draw('mpl')"
   ]
  },
  {
   "cell_type": "markdown",
   "metadata": {},
   "source": [
    "## Integration\n",
    "\n",
    "Global integration to construct the global circuit encoding the pricing problem in a quantum state."
   ]
  },
  {
   "cell_type": "code",
   "execution_count": null,
   "metadata": {},
   "outputs": [],
   "source": [
    "def integration(circ_dict, price_dict, K):\n",
    "    # TO COMPLETE\n",
    "\n"
   ]
  },
  {
   "cell_type": "code",
   "execution_count": null,
   "metadata": {},
   "outputs": [],
   "source": [
    "qc_pricer = integration(circ_dict, price_dict, K)"
   ]
  },
  {
   "cell_type": "code",
   "execution_count": null,
   "metadata": {},
   "outputs": [],
   "source": [
    "qc_pricer.draw('mpl')"
   ]
  },
  {
   "cell_type": "code",
   "execution_count": null,
   "metadata": {},
   "outputs": [],
   "source": [
    "def qae_eval(qc_pricer):\n",
    "    obj_qubits = qc_pricer.find_bit(qc_pricer.qregs[3][0])\n",
    "    problem = EstimationProblem(state_preparation=qc_pricer, objective_qubits=[obj_qubits.index]) \n",
    "    iae = IterativeAmplitudeEstimation(\n",
    "        epsilon_target=0.01,  # Target accuracy\n",
    "        alpha=0.05,  # Confidence level\n",
    "    )\n",
    "    result = iae.estimate(problem).estimation\n",
    "    return result"
   ]
  },
  {
   "cell_type": "code",
   "execution_count": null,
   "metadata": {},
   "outputs": [],
   "source": [
    "res = qae_eval(qc_pricer)"
   ]
  },
  {
   "cell_type": "code",
   "execution_count": null,
   "metadata": {},
   "outputs": [],
   "source": [
    "print(f'sin_expect: {sin_expect}, res: {res}')"
   ]
  },
  {
   "cell_type": "markdown",
   "metadata": {},
   "source": []
  }
 ],
 "metadata": {
  "kernelspec": {
   "display_name": "Python 3 (ipykernel)",
   "language": "python",
   "name": "python3"
  },
  "language_info": {
   "codemirror_mode": {
    "name": "ipython",
    "version": 3
   },
   "file_extension": ".py",
   "mimetype": "text/x-python",
   "name": "python",
   "nbconvert_exporter": "python",
   "pygments_lexer": "ipython3",
   "version": "3.10.4"
  }
 },
 "nbformat": 4,
 "nbformat_minor": 4
}
